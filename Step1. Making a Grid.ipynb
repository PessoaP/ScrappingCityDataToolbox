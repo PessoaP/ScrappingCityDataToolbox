{
 "cells": [
  {
   "cell_type": "code",
   "execution_count": 1,
   "metadata": {},
   "outputs": [],
   "source": [
    "from geopy.geocoders import Nominatim \n",
    "import json\n",
    "import csv\n",
    "from shapely.geometry import shape,Point\n",
    "\n",
    "from SCDT import *\n",
    "\n",
    "radius = 500 "
   ]
  },
  {
   "cell_type": "code",
   "execution_count": 2,
   "metadata": {},
   "outputs": [],
   "source": [
    "#change this one for each city\n",
    "city = 'São Paulo'\n",
    "country = 'Brasil'\n",
    "cityfile = 'sao_paulo'\n",
    "\n",
    "with open('{}.json'.format(cityfile)) as json_data:\n",
    "    city_data = json.load(json_data)[0]"
   ]
  },
  {
   "cell_type": "code",
   "execution_count": 3,
   "metadata": {},
   "outputs": [],
   "source": [
    "geolocator = Nominatim(user_agent=\"coursera\")\n",
    "location = geolocator.geocode(city)\n",
    "center = (location.longitude,location.latitude)"
   ]
  },
  {
   "cell_type": "code",
   "execution_count": 4,
   "metadata": {},
   "outputs": [
    {
     "name": "stdout",
     "output_type": "stream",
     "text": [
      "0.9180471983407561\n",
      "67 103\n"
     ]
    }
   ],
   "source": [
    "polygon = shape(city_data['geojson'])\n",
    "city_grid = make_grid(polygon,radius)\n",
    "city_grid.insert(0,center)"
   ]
  },
  {
   "cell_type": "code",
   "execution_count": 5,
   "metadata": {},
   "outputs": [],
   "source": [
    "with open('{}_grid.csv'.format(cityfile),'w',newline='') as file:\n",
    "    output = csv.writer(file, quoting=csv.QUOTE_NONNUMERIC)\n",
    "    output.writerows(city_grid)"
   ]
  },
  {
   "cell_type": "code",
   "execution_count": 6,
   "metadata": {},
   "outputs": [],
   "source": [
    "with open('{}_grid.csv'.format(cityfile),'r',newline='') as file:\n",
    "    reader = csv.reader(file, quoting=csv.QUOTE_NONNUMERIC)\n",
    "    city_grid_read = list(map(tuple, [map(float, row) for row in reader]))"
   ]
  },
  {
   "cell_type": "code",
   "execution_count": 7,
   "metadata": {},
   "outputs": [
    {
     "data": {
      "text/plain": [
       "True"
      ]
     },
     "execution_count": 7,
     "metadata": {},
     "output_type": "execute_result"
    }
   ],
   "source": [
    "city_grid_read == city_grid"
   ]
  }
 ],
 "metadata": {
  "kernelspec": {
   "display_name": "Python 3",
   "language": "python",
   "name": "python3"
  },
  "language_info": {
   "codemirror_mode": {
    "name": "ipython",
    "version": 3
   },
   "file_extension": ".py",
   "mimetype": "text/x-python",
   "name": "python",
   "nbconvert_exporter": "python",
   "pygments_lexer": "ipython3",
   "version": "3.7.6"
  }
 },
 "nbformat": 4,
 "nbformat_minor": 4
}
